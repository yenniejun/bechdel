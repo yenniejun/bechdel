{
 "cells": [
  {
   "cell_type": "code",
   "execution_count": 10,
   "metadata": {},
   "outputs": [],
   "source": [
    "import requests\n",
    "from bs4 import BeautifulSoup\n",
    "import re\n",
    "import pandas as pd"
   ]
  },
  {
   "cell_type": "markdown",
   "metadata": {
    "heading_collapsed": true
   },
   "source": [
    "## [Best Picture](https://www.imdb.com/search/title/?count=100&groups=oscar_best_picture_winners&sort=year%2Cdesc&ref_=nv_ch_osc) - Oscar Winners Per Year"
   ]
  },
  {
   "cell_type": "markdown",
   "metadata": {
    "hidden": true
   },
   "source": [
    "### Scraping"
   ]
  },
  {
   "cell_type": "code",
   "execution_count": 6,
   "metadata": {
    "hidden": true
   },
   "outputs": [],
   "source": [
    "url = \"https://www.imdb.com/search/title/?count=100&groups=oscar_best_picture_winners&sort=year%2Cdesc&ref_=nv_ch_osc\"\n",
    "resp = requests.get(url)"
   ]
  },
  {
   "cell_type": "code",
   "execution_count": 12,
   "metadata": {
    "hidden": true
   },
   "outputs": [],
   "source": [
    "soup = BeautifulSoup(resp.text)"
   ]
  },
  {
   "cell_type": "code",
   "execution_count": 17,
   "metadata": {
    "hidden": true
   },
   "outputs": [],
   "source": [
    "headers = soup.findAll(\"h3\", class_=\"lister-item-header\")\n"
   ]
  },
  {
   "cell_type": "code",
   "execution_count": 47,
   "metadata": {
    "hidden": true
   },
   "outputs": [],
   "source": [
    "titles, years, imdb_ids = [], [], []\n",
    "\n",
    "for h in headers:\n",
    "    title = h.a.text\n",
    "    year = re.search(\"(\\d\\d\\d\\d)\", h.find(class_=\"lister-item-year\").text).group(1)\n",
    "    url = h.a[\"href\"]\n",
    "    imdb_id = re.search(\"title/(.*)/\", url).group(1)\n",
    "    \n",
    "    titles.append(title)\n",
    "    imdb_ids.append(imdb_id)\n",
    "    years.append(year)"
   ]
  },
  {
   "cell_type": "code",
   "execution_count": 53,
   "metadata": {
    "hidden": true
   },
   "outputs": [],
   "source": [
    "imdb_bestpicture = pd.DataFrame({'titles': titles, 'years': years, 'imdb_ids': imdb_ids},\n",
    "                  columns=['titles', 'years', 'imdb_ids'])\n"
   ]
  },
  {
   "cell_type": "code",
   "execution_count": 54,
   "metadata": {
    "hidden": true,
    "scrolled": true
   },
   "outputs": [
    {
     "data": {
      "text/html": [
       "<div>\n",
       "<style scoped>\n",
       "    .dataframe tbody tr th:only-of-type {\n",
       "        vertical-align: middle;\n",
       "    }\n",
       "\n",
       "    .dataframe tbody tr th {\n",
       "        vertical-align: top;\n",
       "    }\n",
       "\n",
       "    .dataframe thead th {\n",
       "        text-align: right;\n",
       "    }\n",
       "</style>\n",
       "<table border=\"1\" class=\"dataframe\">\n",
       "  <thead>\n",
       "    <tr style=\"text-align: right;\">\n",
       "      <th></th>\n",
       "      <th>titles</th>\n",
       "      <th>years</th>\n",
       "      <th>imdb_ids</th>\n",
       "    </tr>\n",
       "  </thead>\n",
       "  <tbody>\n",
       "    <tr>\n",
       "      <th>0</th>\n",
       "      <td>Parasite</td>\n",
       "      <td>2019</td>\n",
       "      <td>tt6751668</td>\n",
       "    </tr>\n",
       "    <tr>\n",
       "      <th>1</th>\n",
       "      <td>Green Book</td>\n",
       "      <td>2018</td>\n",
       "      <td>tt6966692</td>\n",
       "    </tr>\n",
       "    <tr>\n",
       "      <th>2</th>\n",
       "      <td>The Shape of Water</td>\n",
       "      <td>2017</td>\n",
       "      <td>tt5580390</td>\n",
       "    </tr>\n",
       "    <tr>\n",
       "      <th>3</th>\n",
       "      <td>Moonlight</td>\n",
       "      <td>2016</td>\n",
       "      <td>tt4975722</td>\n",
       "    </tr>\n",
       "    <tr>\n",
       "      <th>4</th>\n",
       "      <td>Spotlight</td>\n",
       "      <td>2015</td>\n",
       "      <td>tt1895587</td>\n",
       "    </tr>\n",
       "    <tr>\n",
       "      <th>...</th>\n",
       "      <td>...</td>\n",
       "      <td>...</td>\n",
       "      <td>...</td>\n",
       "    </tr>\n",
       "    <tr>\n",
       "      <th>88</th>\n",
       "      <td>Cimarron</td>\n",
       "      <td>1931</td>\n",
       "      <td>tt0021746</td>\n",
       "    </tr>\n",
       "    <tr>\n",
       "      <th>89</th>\n",
       "      <td>All Quiet on the Western Front</td>\n",
       "      <td>1930</td>\n",
       "      <td>tt0020629</td>\n",
       "    </tr>\n",
       "    <tr>\n",
       "      <th>90</th>\n",
       "      <td>The Broadway Melody</td>\n",
       "      <td>1929</td>\n",
       "      <td>tt0019729</td>\n",
       "    </tr>\n",
       "    <tr>\n",
       "      <th>91</th>\n",
       "      <td>Wings</td>\n",
       "      <td>1927</td>\n",
       "      <td>tt0018578</td>\n",
       "    </tr>\n",
       "    <tr>\n",
       "      <th>92</th>\n",
       "      <td>Sunrise: A Song of Two Humans</td>\n",
       "      <td>1927</td>\n",
       "      <td>tt0018455</td>\n",
       "    </tr>\n",
       "  </tbody>\n",
       "</table>\n",
       "<p>93 rows × 3 columns</p>\n",
       "</div>"
      ],
      "text/plain": [
       "                            titles years   imdb_ids\n",
       "0                         Parasite  2019  tt6751668\n",
       "1                       Green Book  2018  tt6966692\n",
       "2               The Shape of Water  2017  tt5580390\n",
       "3                        Moonlight  2016  tt4975722\n",
       "4                        Spotlight  2015  tt1895587\n",
       "..                             ...   ...        ...\n",
       "88                        Cimarron  1931  tt0021746\n",
       "89  All Quiet on the Western Front  1930  tt0020629\n",
       "90             The Broadway Melody  1929  tt0019729\n",
       "91                           Wings  1927  tt0018578\n",
       "92   Sunrise: A Song of Two Humans  1927  tt0018455\n",
       "\n",
       "[93 rows x 3 columns]"
      ]
     },
     "execution_count": 54,
     "metadata": {},
     "output_type": "execute_result"
    }
   ],
   "source": [
    "imdb_bestpicture"
   ]
  },
  {
   "cell_type": "code",
   "execution_count": 58,
   "metadata": {
    "hidden": true
   },
   "outputs": [],
   "source": [
    "imdb_bestpicture.to_csv(\"data/raw/oscar_winners.csv\")"
   ]
  },
  {
   "cell_type": "markdown",
   "metadata": {
    "hidden": true
   },
   "source": [
    "### Getting Ratings"
   ]
  },
  {
   "cell_type": "code",
   "execution_count": 3,
   "metadata": {
    "hidden": true
   },
   "outputs": [],
   "source": [
    "df = pd.read_csv(\"data/raw/oscar_winners.csv\")\n",
    "df.drop(columns=\"Unnamed: 0\", inplace=True)\n",
    "df.imdb_ids = df.imdb_ids.apply(lambda t: re.sub(\"tt\",\"\",t))"
   ]
  },
  {
   "cell_type": "code",
   "execution_count": 4,
   "metadata": {
    "hidden": true
   },
   "outputs": [
    {
     "data": {
      "text/html": [
       "<div>\n",
       "<style scoped>\n",
       "    .dataframe tbody tr th:only-of-type {\n",
       "        vertical-align: middle;\n",
       "    }\n",
       "\n",
       "    .dataframe tbody tr th {\n",
       "        vertical-align: top;\n",
       "    }\n",
       "\n",
       "    .dataframe thead th {\n",
       "        text-align: right;\n",
       "    }\n",
       "</style>\n",
       "<table border=\"1\" class=\"dataframe\">\n",
       "  <thead>\n",
       "    <tr style=\"text-align: right;\">\n",
       "      <th></th>\n",
       "      <th>titles</th>\n",
       "      <th>years</th>\n",
       "      <th>imdb_ids</th>\n",
       "    </tr>\n",
       "  </thead>\n",
       "  <tbody>\n",
       "    <tr>\n",
       "      <th>0</th>\n",
       "      <td>Parasite</td>\n",
       "      <td>2019</td>\n",
       "      <td>6751668</td>\n",
       "    </tr>\n",
       "    <tr>\n",
       "      <th>1</th>\n",
       "      <td>Green Book</td>\n",
       "      <td>2018</td>\n",
       "      <td>6966692</td>\n",
       "    </tr>\n",
       "    <tr>\n",
       "      <th>2</th>\n",
       "      <td>The Shape of Water</td>\n",
       "      <td>2017</td>\n",
       "      <td>5580390</td>\n",
       "    </tr>\n",
       "    <tr>\n",
       "      <th>3</th>\n",
       "      <td>Moonlight</td>\n",
       "      <td>2016</td>\n",
       "      <td>4975722</td>\n",
       "    </tr>\n",
       "    <tr>\n",
       "      <th>4</th>\n",
       "      <td>Spotlight</td>\n",
       "      <td>2015</td>\n",
       "      <td>1895587</td>\n",
       "    </tr>\n",
       "    <tr>\n",
       "      <th>...</th>\n",
       "      <td>...</td>\n",
       "      <td>...</td>\n",
       "      <td>...</td>\n",
       "    </tr>\n",
       "    <tr>\n",
       "      <th>88</th>\n",
       "      <td>Cimarron</td>\n",
       "      <td>1931</td>\n",
       "      <td>0021746</td>\n",
       "    </tr>\n",
       "    <tr>\n",
       "      <th>89</th>\n",
       "      <td>All Quiet on the Western Front</td>\n",
       "      <td>1930</td>\n",
       "      <td>0020629</td>\n",
       "    </tr>\n",
       "    <tr>\n",
       "      <th>90</th>\n",
       "      <td>The Broadway Melody</td>\n",
       "      <td>1929</td>\n",
       "      <td>0019729</td>\n",
       "    </tr>\n",
       "    <tr>\n",
       "      <th>91</th>\n",
       "      <td>Wings</td>\n",
       "      <td>1927</td>\n",
       "      <td>0018578</td>\n",
       "    </tr>\n",
       "    <tr>\n",
       "      <th>92</th>\n",
       "      <td>Sunrise: A Song of Two Humans</td>\n",
       "      <td>1927</td>\n",
       "      <td>0018455</td>\n",
       "    </tr>\n",
       "  </tbody>\n",
       "</table>\n",
       "<p>93 rows × 3 columns</p>\n",
       "</div>"
      ],
      "text/plain": [
       "                            titles  years imdb_ids\n",
       "0                         Parasite   2019  6751668\n",
       "1                       Green Book   2018  6966692\n",
       "2               The Shape of Water   2017  5580390\n",
       "3                        Moonlight   2016  4975722\n",
       "4                        Spotlight   2015  1895587\n",
       "..                             ...    ...      ...\n",
       "88                        Cimarron   1931  0021746\n",
       "89  All Quiet on the Western Front   1930  0020629\n",
       "90             The Broadway Melody   1929  0019729\n",
       "91                           Wings   1927  0018578\n",
       "92   Sunrise: A Song of Two Humans   1927  0018455\n",
       "\n",
       "[93 rows x 3 columns]"
      ]
     },
     "execution_count": 4,
     "metadata": {},
     "output_type": "execute_result"
    }
   ],
   "source": [
    "df"
   ]
  },
  {
   "cell_type": "code",
   "execution_count": null,
   "metadata": {
    "hidden": true
   },
   "outputs": [],
   "source": [
    "for i in df.index:\n",
    "    print(i)\n",
    "    id = df.loc[i, \"imdb_ids\"]\n",
    "    url = f\"http://bechdeltest.com/api/v1/getMovieByImdbId?imdbid={id}\"\n",
    "    req = requests.get(url)\n",
    "    \n",
    "    if 'year' in req.json() and req.json()['year'] == df.loc[i, \"years\"]:\n",
    "        df.loc[i, \"rating\"] = req.json()[\"rating\"]\n",
    "    else:\n",
    "        print(\"Something went wrong\", i)"
   ]
  },
  {
   "cell_type": "code",
   "execution_count": 41,
   "metadata": {
    "hidden": true
   },
   "outputs": [],
   "source": [
    "def manuallySetRating(movieName, rating):\n",
    "    df.loc[df.title==movieName, \"rating\"] = rating"
   ]
  },
  {
   "cell_type": "code",
   "execution_count": null,
   "metadata": {
    "hidden": true
   },
   "outputs": [],
   "source": [
    "manuallySetRating(\"Parasite\", 3.0)"
   ]
  },
  {
   "cell_type": "code",
   "execution_count": 45,
   "metadata": {
    "hidden": true
   },
   "outputs": [
    {
     "data": {
      "text/html": [
       "<div>\n",
       "<style scoped>\n",
       "    .dataframe tbody tr th:only-of-type {\n",
       "        vertical-align: middle;\n",
       "    }\n",
       "\n",
       "    .dataframe tbody tr th {\n",
       "        vertical-align: top;\n",
       "    }\n",
       "\n",
       "    .dataframe thead th {\n",
       "        text-align: right;\n",
       "    }\n",
       "</style>\n",
       "<table border=\"1\" class=\"dataframe\">\n",
       "  <thead>\n",
       "    <tr style=\"text-align: right;\">\n",
       "      <th></th>\n",
       "      <th>titles</th>\n",
       "      <th>years</th>\n",
       "      <th>imdb_ids</th>\n",
       "      <th>rating</th>\n",
       "    </tr>\n",
       "  </thead>\n",
       "  <tbody>\n",
       "    <tr>\n",
       "      <th>37</th>\n",
       "      <td>Gandhi</td>\n",
       "      <td>1982</td>\n",
       "      <td>0083987</td>\n",
       "      <td>NaN</td>\n",
       "    </tr>\n",
       "    <tr>\n",
       "      <th>49</th>\n",
       "      <td>Patton</td>\n",
       "      <td>1970</td>\n",
       "      <td>0066206</td>\n",
       "      <td>NaN</td>\n",
       "    </tr>\n",
       "    <tr>\n",
       "      <th>51</th>\n",
       "      <td>Oliver!</td>\n",
       "      <td>1968</td>\n",
       "      <td>0063385</td>\n",
       "      <td>NaN</td>\n",
       "    </tr>\n",
       "    <tr>\n",
       "      <th>67</th>\n",
       "      <td>The Greatest Show on Earth</td>\n",
       "      <td>1952</td>\n",
       "      <td>0044672</td>\n",
       "      <td>NaN</td>\n",
       "    </tr>\n",
       "    <tr>\n",
       "      <th>70</th>\n",
       "      <td>All the King's Men</td>\n",
       "      <td>1949</td>\n",
       "      <td>0041113</td>\n",
       "      <td>NaN</td>\n",
       "    </tr>\n",
       "    <tr>\n",
       "      <th>72</th>\n",
       "      <td>Gentleman's Agreement</td>\n",
       "      <td>1947</td>\n",
       "      <td>0039416</td>\n",
       "      <td>NaN</td>\n",
       "    </tr>\n",
       "    <tr>\n",
       "      <th>75</th>\n",
       "      <td>Going My Way</td>\n",
       "      <td>1944</td>\n",
       "      <td>0036872</td>\n",
       "      <td>NaN</td>\n",
       "    </tr>\n",
       "    <tr>\n",
       "      <th>81</th>\n",
       "      <td>You Can't Take It with You</td>\n",
       "      <td>1938</td>\n",
       "      <td>0030993</td>\n",
       "      <td>NaN</td>\n",
       "    </tr>\n",
       "  </tbody>\n",
       "</table>\n",
       "</div>"
      ],
      "text/plain": [
       "                        titles  years imdb_ids  rating\n",
       "37                      Gandhi   1982  0083987     NaN\n",
       "49                      Patton   1970  0066206     NaN\n",
       "51                     Oliver!   1968  0063385     NaN\n",
       "67  The Greatest Show on Earth   1952  0044672     NaN\n",
       "70          All the King's Men   1949  0041113     NaN\n",
       "72       Gentleman's Agreement   1947  0039416     NaN\n",
       "75                Going My Way   1944  0036872     NaN\n",
       "81  You Can't Take It with You   1938  0030993     NaN"
      ]
     },
     "execution_count": 45,
     "metadata": {},
     "output_type": "execute_result"
    }
   ],
   "source": [
    "df[df.rating.isnull()]"
   ]
  },
  {
   "cell_type": "code",
   "execution_count": 47,
   "metadata": {
    "hidden": true
   },
   "outputs": [],
   "source": [
    "df.to_csv(\"data/ratings_best_picture_oscar_winners.csv\")"
   ]
  },
  {
   "cell_type": "markdown",
   "metadata": {
    "heading_collapsed": true
   },
   "source": [
    "## [Best Picture](https://www.widescreenings.com/list-best-picture-oscar.html) - Oscar Nominees Per Year"
   ]
  },
  {
   "cell_type": "markdown",
   "metadata": {
    "hidden": true
   },
   "source": [
    "### Scraping"
   ]
  },
  {
   "cell_type": "code",
   "execution_count": 4,
   "metadata": {
    "hidden": true
   },
   "outputs": [],
   "source": [
    "headers = {\"user-agent\": \"Mozilla/5.0 (Macintosh; Intel Mac OS X 10_15_6) AppleWebKit/537.36 (KHTML, like Gecko) Chrome/85.0.4183.102 Safari/537.36\"}"
   ]
  },
  {
   "cell_type": "code",
   "execution_count": 5,
   "metadata": {
    "hidden": true
   },
   "outputs": [],
   "source": [
    "url = \"https://www.widescreenings.com/list-best-picture-oscar.html\"\n",
    "req = requests.get(url, headers=headers)"
   ]
  },
  {
   "cell_type": "code",
   "execution_count": 8,
   "metadata": {
    "hidden": true
   },
   "outputs": [],
   "source": [
    "soup = BeautifulSoup(req.text)"
   ]
  },
  {
   "cell_type": "code",
   "execution_count": 148,
   "metadata": {
    "hidden": true
   },
   "outputs": [],
   "source": [
    "years, movies = [], []"
   ]
  },
  {
   "cell_type": "code",
   "execution_count": null,
   "metadata": {
    "hidden": true
   },
   "outputs": [],
   "source": [
    "movies_page = re.sub(r\"</?i+>\", '', soup.findAll(\"p\")[2].text)\n",
    "for m in movies_page.split('\\n')[3:]:\n",
    "#     print(m)\n",
    "    year = re.search(\"(\\d\\d\\d\\d)?\", m).group(1)\n",
    "    winner = re.search(\": (.+) —\", m).group(1)\n",
    "    otherslist = re.search(\"beat (.*) \\(Presented\", m).group(1)  \n",
    "    movieslist = [re.sub('^\\s+', '', a) for a in otherslist.split(',')]\n",
    "    movieslist.append(winner)\n",
    "    \n",
    "    for mov in movieslist:\n",
    "        years.append(year)\n",
    "        movies.append(mov)\n",
    "#     print(year, winner)\n"
   ]
  },
  {
   "cell_type": "code",
   "execution_count": 227,
   "metadata": {
    "hidden": true
   },
   "outputs": [],
   "source": [
    "oscar = pd.DataFrame({'year': years, 'title': movies},\n",
    "                  columns=['year', 'title'])"
   ]
  },
  {
   "cell_type": "code",
   "execution_count": 158,
   "metadata": {
    "hidden": true
   },
   "outputs": [],
   "source": [
    "oscar.to_csv(\"data/raw/oscar_nominees.csv\")"
   ]
  },
  {
   "cell_type": "markdown",
   "metadata": {
    "hidden": true
   },
   "source": [
    "### Getting Ratings"
   ]
  },
  {
   "cell_type": "code",
   "execution_count": null,
   "metadata": {
    "hidden": true
   },
   "outputs": [],
   "source": [
    "df = pd.read_csv(\"data/raw/oscar_nominees.csv\")"
   ]
  },
  {
   "cell_type": "code",
   "execution_count": null,
   "metadata": {
    "hidden": true
   },
   "outputs": [],
   "source": [
    "notfoundindex = []\n",
    "\n",
    "for i in df.index:\n",
    "\n",
    "    title = df.loc[i, \"title\"].strip()\n",
    "    new_title = title\n",
    "    url = f\"http://bechdeltest.com/api/v1/getMoviesByTitle?title={title}\"    \n",
    "    req = requests.get(url)\n",
    "    \n",
    "    if len(req.json()) == 0:\n",
    "        new_title = re.sub(r\"^\\bThe\\b \", '', title)\n",
    "        new_title = re.sub(r\"^\\bA\\b \", '', new_title)\n",
    "        new_title = re.sub(r\"^\\bAn\\b \", '', new_title)\n",
    "        new_title = re.sub(r\"III\", '', new_title)\n",
    "        new_title = re.sub(r\"II\", '', new_title)\n",
    "        new_title = new_title.split(\":\")[0]\n",
    "        \n",
    "        url = f\"http://bechdeltest.com/api/v1/getMoviesByTitle?title={new_title}\"    \n",
    "        req = requests.get(url)\n",
    "        print(\"new title:\", new_title, len(req.json()))\n",
    "        \n",
    "    if len(req.json()) == 0:\n",
    "        new_title = new_title.split(\"-\")[0]\n",
    "        print(\"new title:\", new_title, len(req.json()))\n",
    "    \n",
    "    rating = None\n",
    "    \n",
    "    for r in req.json():\n",
    "        if int(df.loc[i, \"year\"]) == int(r['year']):   \n",
    "            rating = r['rating']\n",
    "            print(new_title, title, \"Matched!\")\n",
    "            break\n",
    "            \n",
    "    if rating == None:\n",
    "#         print(req_len, title, i)\n",
    "        notfoundindex.append(i)\n",
    "    \n",
    "    df.loc[i, \"rating\"] = rating\n"
   ]
  },
  {
   "cell_type": "markdown",
   "metadata": {
    "hidden": true
   },
   "source": [
    "Manually add some of the ratings"
   ]
  },
  {
   "cell_type": "code",
   "execution_count": 242,
   "metadata": {
    "hidden": true
   },
   "outputs": [],
   "source": [
    "def manuallySetRating(movieName, rating):\n",
    "    df.loc[df.title==movieName, \"rating\"] = rating"
   ]
  },
  {
   "cell_type": "code",
   "execution_count": 251,
   "metadata": {
    "hidden": true
   },
   "outputs": [],
   "source": [
    "manuallySetRating(\"Parasite\", 3.0)\n",
    "manuallySetRating(\"Once Upon a Time... in Hollywood\", 3.0)\n",
    "manuallySetRating(\"Birdman or (The Unexpected Virtue of Ignorance)\", 3.0)\n",
    "manuallySetRating(\"Les MisÃ©rables\", 3.0)\n",
    "manuallySetRating(\"Winter’s Bone\", 3.0)\n",
    "manuallySetRating(\"Men in Black 3\", 1.0)\n",
    "manuallySetRating(\"Harry Potter and the Deathly Hallows - Part 2\", 3.0)\n",
    "manuallySetRating(\"Harry Potter and the Deathly Hallows - Part 1\", 1.0)\n",
    "manuallySetRating(\"The Twilight Saga: New Moon\", 3.0)\n",
    "manuallySetRating(\"The Dark Knight\", 3.0)\n",
    "manuallySetRating(\"300\", 0.0)\n",
    "manuallySetRating(\"Star Wars Episode III: Revenge of the Sith\", 1.0)\n",
    "manuallySetRating(\"Harry Potter and the Prisoner of Azkaban\", 3.0)"
   ]
  },
  {
   "cell_type": "code",
   "execution_count": 253,
   "metadata": {
    "hidden": true
   },
   "outputs": [],
   "source": [
    "manuallySetRating(\"Star Wars Episode II: Attack of the Clones\", 3.0)\n",
    "manuallySetRating(\"Harry Potter and the Sorcerer's Stone\", 3.0)\n",
    "manuallySetRating(\"Ocean's Eleven\", 1.0)\n",
    "manuallySetRating(\"Star Wars Episode I: The Phantom Menace\", 3.0)\n",
    "manuallySetRating(\"There's Something About Mary\", 3.0)\n",
    "manuallySetRating(\"A Bug's Life\", 3.0)\n",
    "\n",
    "manuallySetRating(\"My Best Friend's Wedding\", 2.0)\n",
    "manuallySetRating(\"The Rock\", 1.0)\n",
    "manuallySetRating(\"Dumb and Dumber\", 2.0)\n",
    "manuallySetRating(\"Die Hard with a Vengeance\", 1.0)\n",
    "manuallySetRating(\"Schindler's List\", 3.0)\n",
    "manuallySetRating(\"Lethal Weapon 3\", 1.0)\n",
    "manuallySetRating(\"Bram Stoker's Dracula\", 2.0)\n",
    "manuallySetRating(\"Wayne's World\", 1.0)\n",
    "\n",
    "manuallySetRating(\"Three Men and a Baby\", 1.0)\n",
    "manuallySetRating(\"The Secret of My Success\", 1.0)\n",
    "manuallySetRating(\"Crocodile Dundee\", 3.0)\n",
    "manuallySetRating(\"Star Wars Episode VI: Return of the Jedi\", 1.0)\n",
    "manuallySetRating(\"Footloose\", 3.0)\n",
    "manuallySetRating(\"E.T. the Extra-Terrestrial\", 3.0)\n",
    "manuallySetRating(\"Star Trek II: The Wrath of Khan\", 3.0)\n",
    "manuallySetRating(\"Porky's\", 2.0)\n",
    "manuallySetRating(\"Coal Miner's Daughter\", 3.0)\n",
    "manuallySetRating(\"Star Wars Episode V: The Empire Strikes Back\", 0.0)"
   ]
  },
  {
   "cell_type": "code",
   "execution_count": 263,
   "metadata": {
    "hidden": true
   },
   "outputs": [],
   "source": [
    "manuallySetRating(\"The King’s Speech\", 3.0)\n",
    "\n",
    "manuallySetRating(\"The Hurt Locker\", 1.0)\n",
    "manuallySetRating(\"Good Night and Good Luck\", 1.0)\n",
    "manuallySetRating(\"Crouching Tiger Hidden Dragon\", 3.0)\n",
    "\n",
    "manuallySetRating(\"Life is Beautiful\", 0.0)\n",
    "manuallySetRating(\"The Piano\", 3.0)\n",
    "manuallySetRating(\"A Room with a View\", 3.0)\n",
    "manuallySetRating(\"A Soldier’s Story\", 0.0)"
   ]
  },
  {
   "cell_type": "code",
   "execution_count": null,
   "metadata": {
    "hidden": true
   },
   "outputs": [],
   "source": [
    "df.to_csv(\"data/ratings_best_picture_oscar_nominees.csv\")"
   ]
  },
  {
   "cell_type": "markdown",
   "metadata": {
    "heading_collapsed": true
   },
   "source": [
    "## [Kaggle Top 10 Highest Grossing Films](https://www.kaggle.com/bidyutchanda/top-10-highest-grossing-films-19752018#)"
   ]
  },
  {
   "cell_type": "code",
   "execution_count": 8,
   "metadata": {
    "hidden": true
   },
   "outputs": [],
   "source": [
    "df = pd.read_csv(\"data/raw/blockbusters.csv\")\n",
    "df = df[[\"title\", \"year\"]].copy()"
   ]
  },
  {
   "cell_type": "code",
   "execution_count": 9,
   "metadata": {
    "hidden": true
   },
   "outputs": [
    {
     "data": {
      "text/html": [
       "<div>\n",
       "<style scoped>\n",
       "    .dataframe tbody tr th:only-of-type {\n",
       "        vertical-align: middle;\n",
       "    }\n",
       "\n",
       "    .dataframe tbody tr th {\n",
       "        vertical-align: top;\n",
       "    }\n",
       "\n",
       "    .dataframe thead th {\n",
       "        text-align: right;\n",
       "    }\n",
       "</style>\n",
       "<table border=\"1\" class=\"dataframe\">\n",
       "  <thead>\n",
       "    <tr style=\"text-align: right;\">\n",
       "      <th></th>\n",
       "      <th>title</th>\n",
       "      <th>year</th>\n",
       "    </tr>\n",
       "  </thead>\n",
       "  <tbody>\n",
       "    <tr>\n",
       "      <th>0</th>\n",
       "      <td>Black Panther</td>\n",
       "      <td>2018</td>\n",
       "    </tr>\n",
       "    <tr>\n",
       "      <th>1</th>\n",
       "      <td>Avengers: Infinity War</td>\n",
       "      <td>2018</td>\n",
       "    </tr>\n",
       "    <tr>\n",
       "      <th>2</th>\n",
       "      <td>Incredibles 2</td>\n",
       "      <td>2018</td>\n",
       "    </tr>\n",
       "    <tr>\n",
       "      <th>3</th>\n",
       "      <td>Jurassic World: Fallen Kingdom</td>\n",
       "      <td>2018</td>\n",
       "    </tr>\n",
       "    <tr>\n",
       "      <th>4</th>\n",
       "      <td>Deadpool 2</td>\n",
       "      <td>2018</td>\n",
       "    </tr>\n",
       "  </tbody>\n",
       "</table>\n",
       "</div>"
      ],
      "text/plain": [
       "                            title  year\n",
       "0                   Black Panther  2018\n",
       "1          Avengers: Infinity War  2018\n",
       "2                   Incredibles 2  2018\n",
       "3  Jurassic World: Fallen Kingdom  2018\n",
       "4                      Deadpool 2  2018"
      ]
     },
     "execution_count": 9,
     "metadata": {},
     "output_type": "execute_result"
    }
   ],
   "source": [
    "df.head()"
   ]
  },
  {
   "cell_type": "code",
   "execution_count": null,
   "metadata": {
    "hidden": true
   },
   "outputs": [],
   "source": [
    "notfoundindex = []\n",
    "\n",
    "for i in df.index:\n",
    "#     if df.iloc[i].rating == df.iloc[i].rating: \n",
    "#         continue\n",
    "#     else: \n",
    "#         # Need to redo these indices\n",
    "#         print(\"Index\", i)\n",
    "\n",
    "    title = df.loc[i, \"title\"].strip()\n",
    "    new_title = title\n",
    "    url = f\"http://bechdeltest.com/api/v1/getMoviesByTitle?title={title}\"    \n",
    "    req = requests.get(url)\n",
    "    \n",
    "    if len(req.json()) == 0:\n",
    "        new_title = re.sub(r\"^\\bThe\\b \", '', title)\n",
    "        new_title = re.sub(r\"^\\bA\\b \", '', new_title)\n",
    "        new_title = re.sub(r\"^\\bAn\\b \", '', new_title)\n",
    "        new_title = re.sub(r\"III\", '', new_title)\n",
    "        new_title = re.sub(r\"II\", '', new_title)\n",
    "        new_title = new_title.split(\":\")[0]\n",
    "        \n",
    "        url = f\"http://bechdeltest.com/api/v1/getMoviesByTitle?title={new_title}\"    \n",
    "        req = requests.get(url)\n",
    "        print(\"new title:\", new_title, len(req.json()))\n",
    "        \n",
    "    if len(req.json()) == 0:\n",
    "        new_title = new_title.split(\"-\")[0]\n",
    "        print(\"new title:\", new_title, len(req.json()))\n",
    "    \n",
    "    rating = None\n",
    "    \n",
    "    for r in req.json():\n",
    "        if int(df.loc[i, \"year\"]) == int(r['year']):   \n",
    "            rating = r['rating']\n",
    "            print(new_title, title, \"Matched!\")\n",
    "            break\n",
    "            \n",
    "    if rating == None:\n",
    "#         print(req_len, title, i)\n",
    "        notfoundindex.append(i)\n",
    "    \n",
    "    df.loc[i, \"rating\"] = rating\n",
    "    \n"
   ]
  },
  {
   "cell_type": "code",
   "execution_count": 272,
   "metadata": {
    "hidden": true
   },
   "outputs": [],
   "source": [
    "def manuallySetRating(movieName, rating):\n",
    "    df.loc[df.title==movieName, \"rating\"] = rating"
   ]
  },
  {
   "cell_type": "code",
   "execution_count": 285,
   "metadata": {
    "hidden": true
   },
   "outputs": [],
   "source": [
    "manuallySetRating(\"Men in Black 3\", 1.0)\n",
    "manuallySetRating(\"Harry Potter and the Deathly Hallows - Part 2\", 3.0)\n",
    "manuallySetRating(\"Harry Potter and the Deathly Hallows - Part 1\", 1.0)\n",
    "manuallySetRating(\"The Twilight Saga: New Moon\", 3.0)\n",
    "manuallySetRating(\"The Dark Knight\", 3.0)\n",
    "\n",
    "manuallySetRating(\"300\", 0.0)\n",
    "manuallySetRating(\"Star Wars Episode III: Revenge of the Sith\", 1.0)\n",
    "manuallySetRating(\"Harry Potter and the Prisoner of Azkaban\", 3.0)"
   ]
  },
  {
   "cell_type": "code",
   "execution_count": 311,
   "metadata": {
    "hidden": true
   },
   "outputs": [],
   "source": [
    "manuallySetRating(\"The King’s Speech\", 3.0)\n",
    "\n",
    "manuallySetRating(\"The Hurt Locker\", 1.0)\n",
    "manuallySetRating(\"Good Night and Good Luck\", 1.0)\n",
    "manuallySetRating(\"Crouching Tiger Hidden Dragon\", 3.0)\n",
    "\n",
    "manuallySetRating(\"Life is Beautiful\", 0.0)\n",
    "manuallySetRating(\"The Piano\", 3.0)\n",
    "manuallySetRating(\"A Room with a View\", 3.0)\n",
    "manuallySetRating(\"A Soldier’s Story\", 0.0)"
   ]
  },
  {
   "cell_type": "code",
   "execution_count": 317,
   "metadata": {
    "hidden": true
   },
   "outputs": [],
   "source": [
    "df.to_csv(\"data/ratings_highest_grossing.csv\")"
   ]
  },
  {
   "cell_type": "markdown",
   "metadata": {},
   "source": [
    "## [IMDB Emmys](https://www.imdb.com/event/ev0000223/2019/1/?ref_=ev_eh)"
   ]
  },
  {
   "cell_type": "code",
   "execution_count": null,
   "metadata": {},
   "outputs": [],
   "source": []
  },
  {
   "cell_type": "code",
   "execution_count": null,
   "metadata": {},
   "outputs": [],
   "source": []
  },
  {
   "cell_type": "code",
   "execution_count": null,
   "metadata": {},
   "outputs": [],
   "source": []
  },
  {
   "cell_type": "code",
   "execution_count": null,
   "metadata": {},
   "outputs": [],
   "source": []
  },
  {
   "cell_type": "code",
   "execution_count": null,
   "metadata": {},
   "outputs": [],
   "source": []
  }
 ],
 "metadata": {
  "kernelspec": {
   "display_name": "Python 3",
   "language": "python",
   "name": "python3"
  },
  "language_info": {
   "codemirror_mode": {
    "name": "ipython",
    "version": 3
   },
   "file_extension": ".py",
   "mimetype": "text/x-python",
   "name": "python",
   "nbconvert_exporter": "python",
   "pygments_lexer": "ipython3",
   "version": "3.8.5"
  }
 },
 "nbformat": 4,
 "nbformat_minor": 4
}
